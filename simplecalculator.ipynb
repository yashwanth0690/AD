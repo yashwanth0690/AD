{
 "cells": [
  {
   "cell_type": "code",
   "execution_count": 7,
   "id": "76a7f756-29c7-4b75-9671-ebc436be12f9",
   "metadata": {},
   "outputs": [
    {
     "name": "stdout",
     "output_type": "stream",
     "text": [
      "Simple Calculator\n",
      "1. Addition\n",
      "2. Subtraction\n",
      "3. Multiplication\n",
      "4. Division\n"
     ]
    },
    {
     "name": "stdin",
     "output_type": "stream",
     "text": [
      "Enter your choice (1-4):  1\n",
      "Enter the first number:  1\n",
      "Enter the second number:  1\n"
     ]
    },
    {
     "name": "stdout",
     "output_type": "stream",
     "text": [
      "1.0 + 1.0 = 2.0\n"
     ]
    },
    {
     "name": "stdin",
     "output_type": "stream",
     "text": [
      "Do you want to calculate again? (yes/no):  no\n"
     ]
    },
    {
     "name": "stdout",
     "output_type": "stream",
     "text": [
      "Goodbye🙋‍♂️\n"
     ]
    }
   ],
   "source": [
    "def calculator():\n",
    "    print(\"Simple Calculator\")\n",
    "    print(\"1. Addition\")\n",
    "    print(\"2. Subtraction\")\n",
    "    print(\"3. Multiplication\")\n",
    "    print(\"4. Division\")\n",
    "\n",
    "    choice = input(\"Enter your choice (1-4): \")\n",
    "\n",
    "    if choice in ['1', '2', '3', '4']:\n",
    "        num1 = float(input(\"Enter the first number: \"))\n",
    "        num2 = float(input(\"Enter the second number: \"))\n",
    "\n",
    "        if choice == '1':\n",
    "            print(num1, \"+\", num2, \"=\", num1 + num2)\n",
    "        elif choice == '2':\n",
    "            print(num1, \"-\", num2, \"=\", num1 - num2)\n",
    "        elif choice == '3':\n",
    "            print(num1, \"*\", num2, \"=\", num1 * num2)\n",
    "        elif choice == '4':\n",
    "            if num2 != 0:\n",
    "                print(num1, \"/\", num2, \"=\", num1 / num2)\n",
    "            else:\n",
    "                print(\"Error! Division by zero is not allowed.\")\n",
    "    else:\n",
    "        print(\"Invalid choice. Please enter a number between 1 and 4.\")\n",
    "\n",
    "    # Ask the user if they want to continue\n",
    "    again = input(\"Do you want to calculate again? (yes/no): \")\n",
    "    if again.lower() == 'yes':\n",
    "        calculator()\n",
    "    else:\n",
    "        print(\"Goodbye🙋‍♂️\")\n",
    "\n",
    "# Call the calculator function\n",
    "calculator()\n",
    "\n"
   ]
  },
  {
   "cell_type": "code",
   "execution_count": null,
   "id": "ec8ec96f-67f7-466d-bcfd-8faf8f71a204",
   "metadata": {},
   "outputs": [],
   "source": [
    "def calculator("
   ]
  }
 ],
 "metadata": {
  "kernelspec": {
   "display_name": "Python [conda env:base] *",
   "language": "python",
   "name": "conda-base-py"
  },
  "language_info": {
   "codemirror_mode": {
    "name": "ipython",
    "version": 3
   },
   "file_extension": ".py",
   "mimetype": "text/x-python",
   "name": "python",
   "nbconvert_exporter": "python",
   "pygments_lexer": "ipython3",
   "version": "3.12.7"
  }
 },
 "nbformat": 4,
 "nbformat_minor": 5
}
