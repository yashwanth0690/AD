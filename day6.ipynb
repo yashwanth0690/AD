{
 "cells": [
  {
   "cell_type": "markdown",
   "id": "48bccc0c-5e7d-4879-a3cf-dd4ee321eeb4",
   "metadata": {},
   "source": [
    "for"
   ]
  },
  {
   "cell_type": "markdown",
   "id": "c4925143-45ab-4124-945b-e1c097ff418a",
   "metadata": {},
   "source": [
    "while"
   ]
  },
  {
   "cell_type": "code",
   "execution_count": 3,
   "id": "b35cf430-41fe-4c4b-a644-1d9abd703497",
   "metadata": {},
   "outputs": [
    {
     "name": "stdout",
     "output_type": "stream",
     "text": [
      "data\n",
      "data\n",
      "data\n",
      "data\n",
      "data\n"
     ]
    }
   ],
   "source": [
    "print('data')\n",
    "print('data')\n",
    "print('data')\n",
    "print('data')\n",
    "print('data')\n",
    "\n"
   ]
  },
  {
   "cell_type": "code",
   "execution_count": 5,
   "id": "4880452f-ed84-488c-a0f2-33667da2dbd1",
   "metadata": {},
   "outputs": [
    {
     "name": "stdout",
     "output_type": "stream",
     "text": [
      "yes\n",
      "yes\n",
      "yes\n",
      "yes\n",
      "yes\n"
     ]
    }
   ],
   "source": [
    "x=5\n",
    "while x<10:\n",
    "    print('yes')\n",
    "    x+=1"
   ]
  },
  {
   "cell_type": "code",
   "execution_count": 7,
   "id": "2e1234e5-cd35-4b4c-b725-5d29c88db72d",
   "metadata": {},
   "outputs": [
    {
     "name": "stdout",
     "output_type": "stream",
     "text": [
      "yes 5\n",
      "yes 6\n",
      "yes 7\n",
      "yes 8\n",
      "yes 9\n"
     ]
    }
   ],
   "source": [
    "x=5\n",
    "while x<10:\n",
    "    print('yes',x)\n",
    "    x=x+1"
   ]
  },
  {
   "cell_type": "code",
   "execution_count": 9,
   "id": "b9176eba-f56a-474e-89b7-fe56fa483f0e",
   "metadata": {},
   "outputs": [],
   "source": [
    "x=x+1"
   ]
  },
  {
   "cell_type": "code",
   "execution_count": 11,
   "id": "b062c589-dee5-4e4f-af3b-b5216a468af6",
   "metadata": {},
   "outputs": [
    {
     "data": {
      "text/plain": [
       "[40, 20, 80, 50, 30, 60, 90]"
      ]
     },
     "execution_count": 11,
     "metadata": {},
     "output_type": "execute_result"
    }
   ],
   "source": [
    "y=[40,20,80,50,30,60,90]\n",
    "y"
   ]
  },
  {
   "cell_type": "code",
   "execution_count": 102,
   "id": "98fc2b16-f935-4d6a-8d10-edba4209855d",
   "metadata": {},
   "outputs": [
    {
     "data": {
      "text/plain": [
       "[40,\n",
       " 20,\n",
       " 80,\n",
       " 50,\n",
       " 30,\n",
       " 60,\n",
       " 90,\n",
       " 40,\n",
       " 20,\n",
       " 80,\n",
       " 50,\n",
       " 30,\n",
       " 60,\n",
       " 90,\n",
       " 40,\n",
       " 20,\n",
       " 80,\n",
       " 50,\n",
       " 30,\n",
       " 60,\n",
       " 90,\n",
       " 40,\n",
       " 20,\n",
       " 80,\n",
       " 50,\n",
       " 30,\n",
       " 60,\n",
       " 90,\n",
       " 40,\n",
       " 20,\n",
       " 80,\n",
       " 50,\n",
       " 30,\n",
       " 60,\n",
       " 90]"
      ]
     },
     "execution_count": 102,
     "metadata": {},
     "output_type": "execute_result"
    }
   ],
   "source": [
    "y*5"
   ]
  },
  {
   "cell_type": "code",
   "execution_count": 37,
   "id": "140c3e76-1e2f-442f-8e20-68056c349c88",
   "metadata": {},
   "outputs": [
    {
     "name": "stdout",
     "output_type": "stream",
     "text": [
      "3400\n",
      "1700\n",
      "6800\n",
      "4250\n",
      "2550\n",
      "5100\n",
      "7650\n"
     ]
    }
   ],
   "source": [
    "for t in y:\n",
    "    print(t*85)"
   ]
  },
  {
   "cell_type": "code",
   "execution_count": 55,
   "id": "b8642c9c-2476-4124-8610-a65dd9eacd76",
   "metadata": {},
   "outputs": [
    {
     "data": {
      "text/plain": [
       "[40, 20, 80, 50, 30, 60, 90]"
      ]
     },
     "execution_count": 55,
     "metadata": {},
     "output_type": "execute_result"
    }
   ],
   "source": [
    "y\n"
   ]
  },
  {
   "cell_type": "code",
   "execution_count": 57,
   "id": "beabbb84-a26d-4c1e-870a-79175967d2bd",
   "metadata": {},
   "outputs": [],
   "source": [
    "z=[]\n",
    "for i in y:\n",
    "    z.append(i*5+10)"
   ]
  },
  {
   "cell_type": "code",
   "execution_count": 59,
   "id": "7d3d7f4c-4821-4205-bf25-2a5f834d3c86",
   "metadata": {},
   "outputs": [
    {
     "data": {
      "text/plain": [
       "[210, 110, 410, 260, 160, 310, 460]"
      ]
     },
     "execution_count": 59,
     "metadata": {},
     "output_type": "execute_result"
    }
   ],
   "source": [
    "z"
   ]
  },
  {
   "cell_type": "code",
   "execution_count": 61,
   "id": "ead18634-b2eb-4a63-b11d-d667817879d5",
   "metadata": {},
   "outputs": [
    {
     "data": {
      "text/plain": [
       "[31, 45, 66, 33, 90, 78, 67, 87, 89, 93, 25, 59, 9, 81]"
      ]
     },
     "execution_count": 61,
     "metadata": {},
     "output_type": "execute_result"
    }
   ],
   "source": [
    "num=[31,45,66,33,90,78,67,87,89,93,25,59,9,81]\n",
    "num"
   ]
  },
  {
   "cell_type": "code",
   "execution_count": 69,
   "id": "b22069d7-47dd-4a00-b579-6211121fa354",
   "metadata": {},
   "outputs": [],
   "source": [
    "j=[]\n",
    "k=[]\n",
    "for i in num:\n",
    "    if i%2==0:\n",
    "        j.append(i)\n",
    "    else:\n",
    "        k.append(i)"
   ]
  },
  {
   "cell_type": "code",
   "execution_count": 71,
   "id": "34a33db1-d718-44c6-8a61-0782199231a5",
   "metadata": {},
   "outputs": [
    {
     "data": {
      "text/plain": [
       "[66, 90, 78]"
      ]
     },
     "execution_count": 71,
     "metadata": {},
     "output_type": "execute_result"
    }
   ],
   "source": [
    "j"
   ]
  },
  {
   "cell_type": "code",
   "execution_count": 73,
   "id": "7b227f92-f7ba-466e-a740-00c2d7fd7ef7",
   "metadata": {},
   "outputs": [
    {
     "data": {
      "text/plain": [
       "[31, 45, 33, 67, 87, 89, 93, 25, 59, 9, 81]"
      ]
     },
     "execution_count": 73,
     "metadata": {},
     "output_type": "execute_result"
    }
   ],
   "source": [
    "k"
   ]
  },
  {
   "cell_type": "code",
   "execution_count": 79,
   "id": "bb802b7b-ab3e-432e-bd18-a4b76b2a8eb2",
   "metadata": {},
   "outputs": [
    {
     "name": "stdout",
     "output_type": "stream",
     "text": [
      "Even Number: [66, 90, 78]\n",
      "Odd Number: [31, 45, 33, 67, 87, 89, 93, 25, 59, 9, 81]\n"
     ]
    }
   ],
   "source": [
    "num = [31, 45, 33,66,90,78, 67, 87, 89, 93, 25, 59, 9, 81]\n",
    "even = [n for n in num if n % 2 == 0]\n",
    "odd = [n for n in num if n % 2 != 0]\n",
    "print('Even Number:',even)\n",
    "print('Odd Number:',odd)"
   ]
  },
  {
   "cell_type": "code",
   "execution_count": 81,
   "id": "6aff084f-ecc8-4332-9b55-9c62782e6d1d",
   "metadata": {},
   "outputs": [],
   "source": [
    "num = [31,45,66,33,90,78,67,87,89,93,25,59,9,81]"
   ]
  },
  {
   "cell_type": "code",
   "execution_count": 83,
   "id": "1fea45b4-e1ce-4516-aa05-739bca7beb19",
   "metadata": {},
   "outputs": [
    {
     "data": {
      "text/plain": [
       "[31, 45, 66, 33, 90, 78, 67, 87, 89, 93, 25, 59, 9, 81]"
      ]
     },
     "execution_count": 83,
     "metadata": {},
     "output_type": "execute_result"
    }
   ],
   "source": [
    "num \n"
   ]
  },
  {
   "cell_type": "code",
   "execution_count": 93,
   "id": "2633e68a-7ddb-4b0a-8e86-ad2c761be068",
   "metadata": {},
   "outputs": [],
   "source": [
    "t=str('31')"
   ]
  },
  {
   "cell_type": "code",
   "execution_count": 96,
   "id": "1ae6c6ca-ba29-438d-aca8-9eb55ce15386",
   "metadata": {},
   "outputs": [
    {
     "data": {
      "text/plain": [
       "'31'"
      ]
     },
     "execution_count": 96,
     "metadata": {},
     "output_type": "execute_result"
    }
   ],
   "source": [
    "t"
   ]
  },
  {
   "cell_type": "code",
   "execution_count": 98,
   "id": "cb35c58b-a8bc-4e61-b2e2-9762ddfd7850",
   "metadata": {},
   "outputs": [],
   "source": [
    "h = []\n",
    "for i in num:\n",
    "    a=str(i)\n",
    "    b=a.replace('8','5')\n",
    "    c=int(b)\n",
    "    h.append(c)"
   ]
  },
  {
   "cell_type": "code",
   "execution_count": 100,
   "id": "be139b77-8d87-45c3-84a7-a3891bbe9c6f",
   "metadata": {},
   "outputs": [
    {
     "data": {
      "text/plain": [
       "[31, 45, 66, 33, 90, 75, 67, 57, 59, 93, 25, 59, 9, 51]"
      ]
     },
     "execution_count": 100,
     "metadata": {},
     "output_type": "execute_result"
    }
   ],
   "source": [
    "h"
   ]
  },
  {
   "cell_type": "code",
   "execution_count": 110,
   "id": "34d9ed26-7bd5-427c-bb38-c6d22369eab2",
   "metadata": {},
   "outputs": [
    {
     "ename": "SyntaxError",
     "evalue": "invalid syntax (1439268695.py, line 4)",
     "output_type": "error",
     "traceback": [
      "\u001b[1;36m  Cell \u001b[1;32mIn[110], line 4\u001b[1;36m\u001b[0m\n\u001b[1;33m    if i.lower() mot in ('s','o'):\u001b[0m\n\u001b[1;37m                 ^\u001b[0m\n\u001b[1;31mSyntaxError\u001b[0m\u001b[1;31m:\u001b[0m invalid syntax\n"
     ]
    }
   ],
   "source": [
    "x = 'Software'\n",
    "y = ''\n",
    "for i in x:\n",
    "    if i.lower() mot in ('s','o'):\n",
    "        y+=i"
   ]
  },
  {
   "cell_type": "code",
   "execution_count": null,
   "id": "6a0aff4b-ae32-409c-a820-a0235435ea3f",
   "metadata": {},
   "outputs": [],
   "source": []
  }
 ],
 "metadata": {
  "kernelspec": {
   "display_name": "Python [conda env:base] *",
   "language": "python",
   "name": "conda-base-py"
  },
  "language_info": {
   "codemirror_mode": {
    "name": "ipython",
    "version": 3
   },
   "file_extension": ".py",
   "mimetype": "text/x-python",
   "name": "python",
   "nbconvert_exporter": "python",
   "pygments_lexer": "ipython3",
   "version": "3.12.7"
  }
 },
 "nbformat": 4,
 "nbformat_minor": 5
}
