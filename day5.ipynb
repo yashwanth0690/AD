{
 "cells": [
  {
   "cell_type": "code",
   "execution_count": 82,
   "id": "b317aa6c-e4eb-402a-8742-9b2398651674",
   "metadata": {},
   "outputs": [
    {
     "name": "stdout",
     "output_type": "stream",
     "text": [
      "Odd\n"
     ]
    }
   ],
   "source": [
    "x = 9\n",
    "if x%2==0:\n",
    "    print('Even')\n",
    "else:\n",
    "    print('Odd')"
   ]
  },
  {
   "cell_type": "code",
   "execution_count": 84,
   "id": "2affacd9-5a48-4870-b09a-08e5d7d5ce76",
   "metadata": {},
   "outputs": [
    {
     "data": {
      "text/plain": [
       "False"
      ]
     },
     "execution_count": 84,
     "metadata": {},
     "output_type": "execute_result"
    }
   ],
   "source": [
    "x%2==0"
   ]
  },
  {
   "cell_type": "code",
   "execution_count": 86,
   "id": "72bd20c6-a505-4e71-955f-c039ee93bd39",
   "metadata": {},
   "outputs": [
    {
     "data": {
      "text/plain": [
       "0"
      ]
     },
     "execution_count": 86,
     "metadata": {},
     "output_type": "execute_result"
    }
   ],
   "source": [
    "X=8\n",
    "X%2"
   ]
  },
  {
   "cell_type": "code",
   "execution_count": 88,
   "id": "dd0b3f5f-e1cf-40a1-b830-3aa41325c479",
   "metadata": {},
   "outputs": [
    {
     "data": {
      "text/plain": [
       "True"
      ]
     },
     "execution_count": 88,
     "metadata": {},
     "output_type": "execute_result"
    }
   ],
   "source": [
    "X%2==0"
   ]
  },
  {
   "cell_type": "code",
   "execution_count": 90,
   "id": "73968920-1684-437e-a746-ff0b5cdffb75",
   "metadata": {},
   "outputs": [
    {
     "name": "stdout",
     "output_type": "stream",
     "text": [
      "neg\n"
     ]
    }
   ],
   "source": [
    "x=-5.8\n",
    "if x>0:\n",
    "    print('pos')\n",
    "elif x<0:\n",
    "    print('neg')\n",
    "else:\n",
    "    print('zero')"
   ]
  },
  {
   "cell_type": "code",
   "execution_count": 92,
   "id": "b7dde1e3-fa4c-4207-85a2-46733cb19418",
   "metadata": {},
   "outputs": [
    {
     "name": "stdout",
     "output_type": "stream",
     "text": [
      "M\n"
     ]
    }
   ],
   "source": [
    "y=9\n",
    "if y>5:\n",
    "    print('M')\n",
    "elif y>4:\n",
    "    print('K')\n",
    "elif y>7:\n",
    "    print('H')\n",
    "else:\n",
    "    print('O')"
   ]
  },
  {
   "cell_type": "code",
   "execution_count": 94,
   "id": "686ddfd1-8e28-41ae-b644-ba01f4fcbdf6",
   "metadata": {},
   "outputs": [
    {
     "name": "stdout",
     "output_type": "stream",
     "text": [
      "H\n"
     ]
    }
   ],
   "source": [
    "y=8\n",
    "if y<5:\n",
    "    print('M')\n",
    "elif y<=4:\n",
    "    print('K')\n",
    "elif y>7:\n",
    "    print('H')\n",
    "else:\n",
    "    print('O')"
   ]
  },
  {
   "cell_type": "code",
   "execution_count": null,
   "id": "d5ed2d9c-312f-4088-976a-29fe6a6bd634",
   "metadata": {},
   "outputs": [],
   "source": [
    "wap to know number is positive negative or zero"
   ]
  },
  {
   "cell_type": "code",
   "execution_count": 100,
   "id": "3510db0f-e045-4320-8e40-f01e7807a983",
   "metadata": {},
   "outputs": [
    {
     "name": "stdout",
     "output_type": "stream",
     "text": [
      "pos\n"
     ]
    }
   ],
   "source": [
    "x = 6 \n",
    "if  x>0:\n",
    "    print('pos')\n",
    "elif x<0:\n",
    "    print('neg')\n",
    "else:\n",
    "    print('zero')"
   ]
  },
  {
   "cell_type": "code",
   "execution_count": 104,
   "id": "f36667f1-710f-4a3a-927b-98d678afd38c",
   "metadata": {},
   "outputs": [],
   "source": [
    "x='telangana'\n",
    "x='Tiger'\n",
    "x='Tan'"
   ]
  },
  {
   "cell_type": "code",
   "execution_count": 117,
   "id": "20349e86-5804-4281-9483-2cd674d23aca",
   "metadata": {},
   "outputs": [
    {
     "name": "stdout",
     "output_type": "stream",
     "text": [
      "telangana\n",
      "Tiger\n",
      "Tan\n"
     ]
    }
   ],
   "source": [
    "x = 'telangana'  \n",
    "print(x)  \n",
    "\n",
    "x = 'Tiger'  \n",
    "print(x)\n",
    "\n",
    "x = 'Tan' \n",
    "print(x)  \n"
   ]
  },
  {
   "cell_type": "code",
   "execution_count": 121,
   "id": "9b64d87a-1797-46fe-97ea-b8987703b374",
   "metadata": {},
   "outputs": [
    {
     "name": "stdout",
     "output_type": "stream",
     "text": [
      "Yes\n"
     ]
    }
   ],
   "source": [
    "x='telangana'\n",
    "if x[0]=='t' or x[0]=='T':\n",
    "    print('Yes')\n",
    "else:\n",
    "    print('No')"
   ]
  },
  {
   "cell_type": "code",
   "execution_count": 106,
   "id": "956e8376-1092-4458-aba5-68d2aa6a1af9",
   "metadata": {},
   "outputs": [
    {
     "data": {
      "text/plain": [
       "str"
      ]
     },
     "execution_count": 106,
     "metadata": {},
     "output_type": "execute_result"
    }
   ],
   "source": [
    "t='Hyderabad'\n",
    "type(t)"
   ]
  },
  {
   "cell_type": "code",
   "execution_count": 108,
   "id": "288f815b-2bae-46f9-9399-da1a9215d48a",
   "metadata": {},
   "outputs": [
    {
     "data": {
      "text/plain": [
       "'d'"
      ]
     },
     "execution_count": 108,
     "metadata": {},
     "output_type": "execute_result"
    }
   ],
   "source": [
    "t[-1]"
   ]
  },
  {
   "cell_type": "code",
   "execution_count": 110,
   "id": "aad2bd78-d8c2-4aa4-a16a-bb38c0ea1f89",
   "metadata": {},
   "outputs": [
    {
     "data": {
      "text/plain": [
       "'y'"
      ]
     },
     "execution_count": 110,
     "metadata": {},
     "output_type": "execute_result"
    }
   ],
   "source": [
    "t[1]"
   ]
  },
  {
   "cell_type": "code",
   "execution_count": 112,
   "id": "b4044e15-3781-4f11-8f5b-9b1bba42ab3e",
   "metadata": {},
   "outputs": [
    {
     "data": {
      "text/plain": [
       "'HYDERABAD'"
      ]
     },
     "execution_count": 112,
     "metadata": {},
     "output_type": "execute_result"
    }
   ],
   "source": [
    "t.upper()"
   ]
  },
  {
   "cell_type": "code",
   "execution_count": 125,
   "id": "b8239640-453c-4599-9de0-d82912a437b4",
   "metadata": {},
   "outputs": [
    {
     "name": "stdout",
     "output_type": "stream",
     "text": [
      "no\n"
     ]
    }
   ],
   "source": [
    "x='apple'\n",
    "if x[0]=='s' or x[0]=='S':\n",
    "    print('yes')\n",
    "elif x[0]=='s' or x[0]=='H':\n",
    "    print('yes')\n",
    "elif x[0]=='m' or x[0]=='M':\n",
    "    print('yes')\n",
    "else:\n",
    "    print('no')\n"
   ]
  },
  {
   "cell_type": "code",
   "execution_count": 129,
   "id": "be300896-e0a8-4c17-8a00-187e33132898",
   "metadata": {},
   "outputs": [
    {
     "name": "stdout",
     "output_type": "stream",
     "text": [
      "yes\n"
     ]
    }
   ],
   "source": [
    "x='tiger'\n",
    "if x[0].lower()=='t':\n",
    "    print('yes')\n",
    "else:\n",
    "    print('no')"
   ]
  },
  {
   "cell_type": "code",
   "execution_count": 133,
   "id": "2d49afb1-0b1b-4efa-8144-6c9e33ac4873",
   "metadata": {},
   "outputs": [
    {
     "name": "stdout",
     "output_type": "stream",
     "text": [
      "no\n"
     ]
    }
   ],
   "source": [
    "if x[0]=='s' or x[0]=='S' or x[0]=='h' or x[0]=='H' or x[0]=='m' or x[0]=='M':\n",
    "    print('yes')\n",
    "else:\n",
    "    print('no')"
   ]
  },
  {
   "cell_type": "code",
   "execution_count": 135,
   "id": "8e7046a4-65d9-4c55-8d66-b1d894fd16c4",
   "metadata": {},
   "outputs": [
    {
     "name": "stdout",
     "output_type": "stream",
     "text": [
      "no\n"
     ]
    }
   ],
   "source": [
    "if x[0].lower() in ('s','m','h'):\n",
    "    print('yes')\n",
    "else:\n",
    "    print('no')"
   ]
  },
  {
   "cell_type": "code",
   "execution_count": null,
   "id": "95aecad9-2dff-45bf-909a-75ba74a353b3",
   "metadata": {},
   "outputs": [],
   "source": []
  }
 ],
 "metadata": {
  "kernelspec": {
   "display_name": "Python [conda env:base] *",
   "language": "python",
   "name": "conda-base-py"
  },
  "language_info": {
   "codemirror_mode": {
    "name": "ipython",
    "version": 3
   },
   "file_extension": ".py",
   "mimetype": "text/x-python",
   "name": "python",
   "nbconvert_exporter": "python",
   "pygments_lexer": "ipython3",
   "version": "3.12.7"
  }
 },
 "nbformat": 4,
 "nbformat_minor": 5
}
