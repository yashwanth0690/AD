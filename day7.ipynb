{
 "cells": [
  {
   "cell_type": "code",
   "execution_count": 7,
   "id": "56a27318-cb01-4761-a54f-d572f4316de2",
   "metadata": {},
   "outputs": [
    {
     "data": {
      "text/plain": [
       "'MallA Reddy 2025'"
      ]
     },
     "execution_count": 7,
     "metadata": {},
     "output_type": "execute_result"
    }
   ],
   "source": [
    "y='MallA Reddy 2025'\n",
    "y"
   ]
  },
  {
   "cell_type": "code",
   "execution_count": 9,
   "id": "38e06e5a-b779-4c36-a81d-3b1aede913ef",
   "metadata": {},
   "outputs": [
    {
     "data": {
      "text/plain": [
       "16"
      ]
     },
     "execution_count": 9,
     "metadata": {},
     "output_type": "execute_result"
    }
   ],
   "source": [
    "len(y)"
   ]
  },
  {
   "cell_type": "code",
   "execution_count": 11,
   "id": "3284ca6c-ada0-4644-82c9-4d26abe5ad66",
   "metadata": {},
   "outputs": [
    {
     "data": {
      "text/plain": [
       "1"
      ]
     },
     "execution_count": 11,
     "metadata": {},
     "output_type": "execute_result"
    }
   ],
   "source": [
    "y.count('a')"
   ]
  },
  {
   "cell_type": "code",
   "execution_count": null,
   "id": "40a2d8a1-c305-41eb-a41a-0dbc8ebd5b67",
   "metadata": {},
   "outputs": [],
   "source": [
    "def functionname(parameter):\n",
    "    block of code\n",
    "    return output"
   ]
  },
  {
   "cell_type": "code",
   "execution_count": 28,
   "id": "b86a0428-5dad-48a0-9bd8-11a768e9fe3e",
   "metadata": {},
   "outputs": [],
   "source": [
    "def calArea(r):\n",
    "    a=3.14*r*r\n",
    "    return a"
   ]
  },
  {
   "cell_type": "code",
   "execution_count": 30,
   "id": "58731973-dbcf-4d87-9876-f4a926eb8dee",
   "metadata": {},
   "outputs": [
    {
     "data": {
      "text/plain": [
       "314.0"
      ]
     },
     "execution_count": 30,
     "metadata": {},
     "output_type": "execute_result"
    }
   ],
   "source": [
    "calArea(r=10)"
   ]
  },
  {
   "cell_type": "code",
   "execution_count": 32,
   "id": "20db4f9a-9446-437f-a27b-ed504468302b",
   "metadata": {},
   "outputs": [
    {
     "data": {
      "text/plain": [
       "2826.0"
      ]
     },
     "execution_count": 32,
     "metadata": {},
     "output_type": "execute_result"
    }
   ],
   "source": [
    "calArea(r=30)"
   ]
  },
  {
   "cell_type": "code",
   "execution_count": 40,
   "id": "a5ca5507-7e91-403f-a4d4-40f7dbea3db6",
   "metadata": {},
   "outputs": [
    {
     "data": {
      "text/plain": [
       "1962.5"
      ]
     },
     "execution_count": 40,
     "metadata": {},
     "output_type": "execute_result"
    }
   ],
   "source": [
    "w=calArea(r=25)\n",
    "w"
   ]
  },
  {
   "cell_type": "code",
   "execution_count": 42,
   "id": "79e32e2b-fac0-4c1e-b115-d63a5573dc87",
   "metadata": {},
   "outputs": [
    {
     "data": {
      "text/plain": [
       "float"
      ]
     },
     "execution_count": 42,
     "metadata": {},
     "output_type": "execute_result"
    }
   ],
   "source": [
    "type(w)"
   ]
  },
  {
   "cell_type": "code",
   "execution_count": 44,
   "id": "ca3cfaed-6ac6-482f-9dd9-b316372f2339",
   "metadata": {},
   "outputs": [
    {
     "data": {
      "text/plain": [
       "1968.5"
      ]
     },
     "execution_count": 44,
     "metadata": {},
     "output_type": "execute_result"
    }
   ],
   "source": [
    "w+6"
   ]
  },
  {
   "cell_type": "code",
   "execution_count": 56,
   "id": "1b9d33c4-b469-457c-8d2b-badcfea57e2e",
   "metadata": {},
   "outputs": [],
   "source": [
    "def aor(l,w):\n",
    "    area = l*w\n",
    "    return area"
   ]
  },
  {
   "cell_type": "code",
   "execution_count": 58,
   "id": "fe090a22-88d6-402c-b620-fff82109d498",
   "metadata": {},
   "outputs": [
    {
     "data": {
      "text/plain": [
       "50"
      ]
     },
     "execution_count": 58,
     "metadata": {},
     "output_type": "execute_result"
    }
   ],
   "source": [
    "aor(l=10,w=5)"
   ]
  },
  {
   "cell_type": "code",
   "execution_count": 60,
   "id": "f57046d9-f615-4cc8-aa1a-e081b78420c6",
   "metadata": {},
   "outputs": [],
   "source": [
    "def area(rad,length,width):\n",
    "    aoc=3.14*rad*rad\n",
    "    aor=length*width\n",
    "    return{'Area of Cicrle':aoc,'Area of rectangle':aor}"
   ]
  },
  {
   "cell_type": "code",
   "execution_count": 62,
   "id": "4891411d-5679-4087-b432-a9cc260662fc",
   "metadata": {},
   "outputs": [
    {
     "data": {
      "text/plain": [
       "{'Area of Cicrle': 314.0, 'Area of rectangle': 100}"
      ]
     },
     "execution_count": 62,
     "metadata": {},
     "output_type": "execute_result"
    }
   ],
   "source": [
    "area(10,20,5)"
   ]
  },
  {
   "cell_type": "code",
   "execution_count": 70,
   "id": "7c264328-b8e3-4658-8d92-7bdab1ad6278",
   "metadata": {},
   "outputs": [
    {
     "data": {
      "text/plain": [
       "'HyderabAAd 500008 Telangana '"
      ]
     },
     "execution_count": 70,
     "metadata": {},
     "output_type": "execute_result"
    }
   ],
   "source": [
    "t='HyderabAAd 500008 Telangana '\n",
    "t"
   ]
  },
  {
   "cell_type": "code",
   "execution_count": 68,
   "id": "160db7bb-373b-4e93-864a-6fedcc1a76f9",
   "metadata": {},
   "outputs": [
    {
     "data": {
      "text/plain": [
       "1"
      ]
     },
     "execution_count": 68,
     "metadata": {},
     "output_type": "execute_result"
    }
   ],
   "source": [
    "t.count('a')"
   ]
  },
  {
   "cell_type": "code",
   "execution_count": 72,
   "id": "6419c1bf-b573-46ed-b9bb-f810a2f2f928",
   "metadata": {},
   "outputs": [],
   "source": [
    "def countA(x):\n",
    "    d=x.loower()\n",
    "    return d.count('a')"
   ]
  },
  {
   "cell_type": "code",
   "execution_count": 86,
   "id": "57e42788-0a86-4fe2-80c5-76edf5ebd380",
   "metadata": {},
   "outputs": [],
   "source": [
    "def count_num_alpha(x):\n",
    "    c=0\n",
    "    d=0\n",
    "    for i in x:\n",
    "        if i.isalpha():\n",
    "            c+=1\n",
    "        elif i.isnumeric():\n",
    "            d+=1\n",
    "    return{'Number of alphabets ':c,'Number of digits':d}\n",
    "            "
   ]
  },
  {
   "cell_type": "code",
   "execution_count": 88,
   "id": "48b04db0-5378-420b-ab08-32e840c1c16e",
   "metadata": {},
   "outputs": [
    {
     "data": {
      "text/plain": [
       "{'Number of alphabets ': 19, 'Number of digits': 6}"
      ]
     },
     "execution_count": 88,
     "metadata": {},
     "output_type": "execute_result"
    }
   ],
   "source": [
    "count_num_alpha(t)"
   ]
  }
 ],
 "metadata": {
  "kernelspec": {
   "display_name": "Python [conda env:base] *",
   "language": "python",
   "name": "conda-base-py"
  },
  "language_info": {
   "codemirror_mode": {
    "name": "ipython",
    "version": 3
   },
   "file_extension": ".py",
   "mimetype": "text/x-python",
   "name": "python",
   "nbconvert_exporter": "python",
   "pygments_lexer": "ipython3",
   "version": "3.12.7"
  }
 },
 "nbformat": 4,
 "nbformat_minor": 5
}
