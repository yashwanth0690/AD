{
 "cells": [
  {
   "cell_type": "code",
   "execution_count": 70,
   "id": "efebaf0e-47a7-4806-9320-b6467cf4156a",
   "metadata": {},
   "outputs": [
    {
     "data": {
      "text/plain": [
       "{101: 4, 102: 7, 103: 2}"
      ]
     },
     "execution_count": 70,
     "metadata": {},
     "output_type": "execute_result"
    }
   ],
   "source": [
    "d={101:4,102:7,103:2}\n",
    "d"
   ]
  },
  {
   "cell_type": "code",
   "execution_count": 72,
   "id": "4b24fc87-fc2e-4884-8ec9-8e6601bf9a63",
   "metadata": {},
   "outputs": [
    {
     "data": {
      "text/plain": [
       "2"
      ]
     },
     "execution_count": 72,
     "metadata": {},
     "output_type": "execute_result"
    }
   ],
   "source": [
    "d[103]"
   ]
  },
  {
   "cell_type": "code",
   "execution_count": 74,
   "id": "477c28ab-6fca-4eb6-9bb7-0317a78140d3",
   "metadata": {},
   "outputs": [
    {
     "data": {
      "text/plain": [
       "{101: 4, 102: 4000, 103: 2}"
      ]
     },
     "execution_count": 74,
     "metadata": {},
     "output_type": "execute_result"
    }
   ],
   "source": [
    "d[102]=4000\n",
    "d"
   ]
  },
  {
   "cell_type": "code",
   "execution_count": 76,
   "id": "40b99d96-b986-40e2-a4c4-71d86267d07b",
   "metadata": {},
   "outputs": [
    {
     "data": {
      "text/plain": [
       "{101: 99, 102: 4000, 103: 2}"
      ]
     },
     "execution_count": 76,
     "metadata": {},
     "output_type": "execute_result"
    }
   ],
   "source": [
    "d.update({101:99})\n",
    "d"
   ]
  },
  {
   "cell_type": "code",
   "execution_count": 78,
   "id": "056c08a0-ea89-4607-bcfd-3ecc88c9ee15",
   "metadata": {},
   "outputs": [
    {
     "data": {
      "text/plain": [
       "{101: 99, 102: 4000, 103: 'India'}"
      ]
     },
     "execution_count": 78,
     "metadata": {},
     "output_type": "execute_result"
    }
   ],
   "source": [
    "d.update({103:'India'})\n",
    "d"
   ]
  },
  {
   "cell_type": "code",
   "execution_count": 80,
   "id": "7ee957eb-668b-4ce6-8b60-f111757d3234",
   "metadata": {},
   "outputs": [
    {
     "data": {
      "text/plain": [
       "{101: 99, 102: 4000, 103: 'India', 105: 5000}"
      ]
     },
     "execution_count": 80,
     "metadata": {},
     "output_type": "execute_result"
    }
   ],
   "source": [
    "d[105]=5000\n",
    "d"
   ]
  },
  {
   "cell_type": "code",
   "execution_count": 82,
   "id": "a34defbd-2064-4dfe-aeb5-8a4a5a4f19ea",
   "metadata": {},
   "outputs": [
    {
     "data": {
      "text/plain": [
       "{101: 99, 102: 4000, 103: 'India', 105: 5000}"
      ]
     },
     "execution_count": 82,
     "metadata": {},
     "output_type": "execute_result"
    }
   ],
   "source": [
    "d.get(105)\n",
    "d"
   ]
  },
  {
   "cell_type": "code",
   "execution_count": 84,
   "id": "05145a01-daf0-4add-bcb4-8fb369b12cff",
   "metadata": {},
   "outputs": [
    {
     "data": {
      "text/plain": [
       "{101: 99, 102: 4000, 105: 5000}"
      ]
     },
     "execution_count": 84,
     "metadata": {},
     "output_type": "execute_result"
    }
   ],
   "source": [
    "del d[103]\n",
    "d"
   ]
  },
  {
   "cell_type": "code",
   "execution_count": 86,
   "id": "e355e168-7fc1-45ba-9e94-cd634d4db0d2",
   "metadata": {},
   "outputs": [
    {
     "data": {
      "text/plain": [
       "dict_values([99, 4000, 5000])"
      ]
     },
     "execution_count": 86,
     "metadata": {},
     "output_type": "execute_result"
    }
   ],
   "source": [
    "d.values()"
   ]
  },
  {
   "cell_type": "code",
   "execution_count": 88,
   "id": "0b0bfa65-6e5a-4928-bf81-229b48d73ae6",
   "metadata": {},
   "outputs": [
    {
     "data": {
      "text/plain": [
       "{101: 99, 102: 4000, 105: 5000}"
      ]
     },
     "execution_count": 88,
     "metadata": {},
     "output_type": "execute_result"
    }
   ],
   "source": [
    "d.items()\n",
    "d"
   ]
  },
  {
   "cell_type": "code",
   "execution_count": 90,
   "id": "94791bf7-2106-4326-a228-c06de62484b2",
   "metadata": {},
   "outputs": [
    {
     "data": {
      "text/plain": [
       "{101: 99, 102: 4000, 105: 5000, 104: [1000, 5000, 6000, 7000]}"
      ]
     },
     "execution_count": 90,
     "metadata": {},
     "output_type": "execute_result"
    }
   ],
   "source": [
    "d[104]=[1000,5000,6000,7000]\n",
    "d"
   ]
  },
  {
   "cell_type": "code",
   "execution_count": 96,
   "id": "ae2d9474-e304-4239-a681-680c3109fc3a",
   "metadata": {},
   "outputs": [
    {
     "data": {
      "text/plain": [
       "[1000, 5000, 6000, 7000]"
      ]
     },
     "execution_count": 96,
     "metadata": {},
     "output_type": "execute_result"
    }
   ],
   "source": [
    "d[104]"
   ]
  },
  {
   "cell_type": "code",
   "execution_count": 98,
   "id": "8e84b66c-85f3-4988-95d3-b71831325abf",
   "metadata": {},
   "outputs": [
    {
     "data": {
      "text/plain": [
       "[1000, 5000, 6000]"
      ]
     },
     "execution_count": 98,
     "metadata": {},
     "output_type": "execute_result"
    }
   ],
   "source": [
    "d[104][0:3]"
   ]
  },
  {
   "cell_type": "code",
   "execution_count": 100,
   "id": "7a38c42b-e5c6-4f6b-be65-3b5fcc2fbeeb",
   "metadata": {},
   "outputs": [
    {
     "data": {
      "text/plain": [
       "list"
      ]
     },
     "execution_count": 100,
     "metadata": {},
     "output_type": "execute_result"
    }
   ],
   "source": [
    "type(d[104])"
   ]
  },
  {
   "cell_type": "code",
   "execution_count": 102,
   "id": "bd72d10f-da30-4caa-bd9e-3ee00a066056",
   "metadata": {},
   "outputs": [
    {
     "data": {
      "text/plain": [
       "int"
      ]
     },
     "execution_count": 102,
     "metadata": {},
     "output_type": "execute_result"
    }
   ],
   "source": [
    "type(d[102])"
   ]
  },
  {
   "cell_type": "code",
   "execution_count": 106,
   "id": "d6ca65db-3a15-4962-956d-eaa73fd79512",
   "metadata": {},
   "outputs": [
    {
     "data": {
      "text/plain": [
       "{101: 99,\n",
       " 102: 4000,\n",
       " 105: 5000,\n",
       " 104: [1000, 5000, 6000, 7000],\n",
       " 103: (30, 40, 60, 50)}"
      ]
     },
     "execution_count": 106,
     "metadata": {},
     "output_type": "execute_result"
    }
   ],
   "source": [
    "d.update({103:(30,40,60,50)})\n",
    "d"
   ]
  },
  {
   "cell_type": "code",
   "execution_count": 108,
   "id": "1ff01084-9aa6-4349-8b26-06c62298dd2c",
   "metadata": {},
   "outputs": [
    {
     "data": {
      "text/plain": [
       "(30, 40, 60)"
      ]
     },
     "execution_count": 108,
     "metadata": {},
     "output_type": "execute_result"
    }
   ],
   "source": [
    "d[103][0:3]"
   ]
  },
  {
   "cell_type": "code",
   "execution_count": 110,
   "id": "6b95dfd5-9118-48c9-a845-c3fba1ca8dca",
   "metadata": {
    "scrolled": true
   },
   "outputs": [
    {
     "data": {
      "text/plain": [
       "40"
      ]
     },
     "execution_count": 110,
     "metadata": {},
     "output_type": "execute_result"
    }
   ],
   "source": [
    "d[103][1]"
   ]
  },
  {
   "cell_type": "code",
   "execution_count": null,
   "id": "50251580-7ef0-41cb-8e8a-3dd9bf65fc69",
   "metadata": {},
   "outputs": [],
   "source": [
    "d[104].append(56)"
   ]
  },
  {
   "cell_type": "code",
   "execution_count": 112,
   "id": "b9f5b11d-d7f2-480b-b3e7-84566a94b645",
   "metadata": {},
   "outputs": [
    {
     "data": {
      "text/plain": [
       "{101: 99,\n",
       " 102: 4000,\n",
       " 105: 5000,\n",
       " 104: [1000, 5000, 6000, 7000],\n",
       " 103: (30, 40, 60, 50)}"
      ]
     },
     "execution_count": 112,
     "metadata": {},
     "output_type": "execute_result"
    }
   ],
   "source": [
    "d"
   ]
  },
  {
   "cell_type": "code",
   "execution_count": 124,
   "id": "21ccb318-7c5c-4711-9ed2-ccb10971fbfd",
   "metadata": {},
   "outputs": [
    {
     "data": {
      "text/plain": [
       "{101: {50: [7, 8, 9, 10], 'apple': (20, 10, 70, [90, 180, 270])},\n",
       " 102: 4000,\n",
       " 105: {'a': (30, 50, 70),\n",
       "  'b': (1000, 5000, 7000, 9000),\n",
       "  'c': ['k', {'L': [11, 22], 'M': (77, 88)}, 'N']},\n",
       " 104: [1000, 5000, 6000, 7000],\n",
       " 103: (30, 40, 60, 50)}"
      ]
     },
     "execution_count": 124,
     "metadata": {},
     "output_type": "execute_result"
    }
   ],
   "source": [
    "d[101]={50:[7,8,9,10],'apple':(20,10,70,[90,180,270])}\n",
    "d"
   ]
  },
  {
   "cell_type": "code",
   "execution_count": 126,
   "id": "88590f70-82f3-49f8-aba3-61b9adc663a4",
   "metadata": {},
   "outputs": [
    {
     "data": {
      "text/plain": [
       "{101: {50: [7, 8, 9, 10], 'apple': (20, 10, 70, [90, 180, 270])},\n",
       " 102: 4000,\n",
       " 105: {'a': (30, 50, 70),\n",
       "  'b': (1000, 5000, 7000, 9000),\n",
       "  'c': ['k', {'L': [11, 22], 'M': (77, 88)}, 'N']},\n",
       " 104: [1000, 5000, 6000, 7000],\n",
       " 103: (30, 40, 60, 50)}"
      ]
     },
     "execution_count": 126,
     "metadata": {},
     "output_type": "execute_result"
    }
   ],
   "source": [
    "d[105]={'a':(30,50,70),'b':(1000,5000,7000,9000),'c':['k',{'L':[11,22],'M':(77,88)},'N']}\n",
    "d"
   ]
  },
  {
   "cell_type": "code",
   "execution_count": 128,
   "id": "c683288a-ad21-4dc8-883f-e2a4506ae7c2",
   "metadata": {},
   "outputs": [
    {
     "data": {
      "text/plain": [
       "(20, 10, 70, [90, 180, 270])"
      ]
     },
     "execution_count": 128,
     "metadata": {},
     "output_type": "execute_result"
    }
   ],
   "source": [
    "d[101]['apple']"
   ]
  },
  {
   "cell_type": "code",
   "execution_count": 130,
   "id": "baad92a9-9b90-4f58-97cc-2db64a4127f0",
   "metadata": {},
   "outputs": [
    {
     "data": {
      "text/plain": [
       "{50: [7, 8, 9, 10], 'apple': (20, 10, 70, [90, 180, 270])}"
      ]
     },
     "execution_count": 130,
     "metadata": {},
     "output_type": "execute_result"
    }
   ],
   "source": [
    "d[101]"
   ]
  },
  {
   "cell_type": "code",
   "execution_count": 132,
   "id": "36262e45-f698-4205-a51a-2ffb863cc78e",
   "metadata": {},
   "outputs": [
    {
     "data": {
      "text/plain": [
       "180"
      ]
     },
     "execution_count": 132,
     "metadata": {},
     "output_type": "execute_result"
    }
   ],
   "source": [
    "d[101]['apple'][3][1]"
   ]
  },
  {
   "cell_type": "code",
   "execution_count": null,
   "id": "3163f53b-4ba9-4f8b-9995-e94f883c339d",
   "metadata": {},
   "outputs": [],
   "source": []
  }
 ],
 "metadata": {
  "kernelspec": {
   "display_name": "Python [conda env:base] *",
   "language": "python",
   "name": "conda-base-py"
  },
  "language_info": {
   "codemirror_mode": {
    "name": "ipython",
    "version": 3
   },
   "file_extension": ".py",
   "mimetype": "text/x-python",
   "name": "python",
   "nbconvert_exporter": "python",
   "pygments_lexer": "ipython3",
   "version": "3.12.7"
  }
 },
 "nbformat": 4,
 "nbformat_minor": 5
}
