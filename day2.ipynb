{
 "cells": [
  {
   "cell_type": "code",
   "execution_count": 1,
   "id": "93a732b0-d9e8-4831-9a73-97c72eaee34f",
   "metadata": {},
   "outputs": [
    {
     "data": {
      "text/plain": [
       "8"
      ]
     },
     "execution_count": 1,
     "metadata": {},
     "output_type": "execute_result"
    }
   ],
   "source": [
    "6+2"
   ]
  },
  {
   "cell_type": "code",
   "execution_count": 3,
   "id": "c3e107d5-2e32-4c30-b37b-810687f76adf",
   "metadata": {},
   "outputs": [],
   "source": [
    "a=56\n",
    "b=4"
   ]
  },
  {
   "cell_type": "code",
   "execution_count": 5,
   "id": "3008f4f4-23d5-4c69-8718-b46d0b6fed07",
   "metadata": {},
   "outputs": [
    {
     "data": {
      "text/plain": [
       "9834496"
      ]
     },
     "execution_count": 5,
     "metadata": {},
     "output_type": "execute_result"
    }
   ],
   "source": [
    "a ** b"
   ]
  },
  {
   "cell_type": "code",
   "execution_count": 7,
   "id": "71bafdb2-45e8-4d59-86f1-b1d39d309696",
   "metadata": {},
   "outputs": [
    {
     "data": {
      "text/plain": [
       "60"
      ]
     },
     "execution_count": 7,
     "metadata": {},
     "output_type": "execute_result"
    }
   ],
   "source": [
    "a + b"
   ]
  },
  {
   "cell_type": "code",
   "execution_count": 9,
   "id": "84cfd911-bf5d-4d0c-9756-73f107e9ce63",
   "metadata": {},
   "outputs": [
    {
     "data": {
      "text/plain": [
       "52"
      ]
     },
     "execution_count": 9,
     "metadata": {},
     "output_type": "execute_result"
    }
   ],
   "source": [
    "a - b"
   ]
  },
  {
   "cell_type": "code",
   "execution_count": 11,
   "id": "78e6b65d-c255-44c5-b1f2-bab8d8284b23",
   "metadata": {},
   "outputs": [
    {
     "data": {
      "text/plain": [
       "14"
      ]
     },
     "execution_count": 11,
     "metadata": {},
     "output_type": "execute_result"
    }
   ],
   "source": [
    "a // b"
   ]
  },
  {
   "cell_type": "code",
   "execution_count": 13,
   "id": "3b6ab882-8ed7-4665-8cac-c433a0e828f2",
   "metadata": {},
   "outputs": [
    {
     "data": {
      "text/plain": [
       "0"
      ]
     },
     "execution_count": 13,
     "metadata": {},
     "output_type": "execute_result"
    }
   ],
   "source": [
    "a % b"
   ]
  },
  {
   "cell_type": "code",
   "execution_count": 15,
   "id": "73bd1eae-14ba-435f-98ba-ca81ba94f5f1",
   "metadata": {},
   "outputs": [
    {
     "data": {
      "text/plain": [
       "14.0"
      ]
     },
     "execution_count": 15,
     "metadata": {},
     "output_type": "execute_result"
    }
   ],
   "source": [
    "a / b"
   ]
  },
  {
   "cell_type": "code",
   "execution_count": 17,
   "id": "9db162e2-1df6-448d-864a-1a046e91d604",
   "metadata": {},
   "outputs": [
    {
     "data": {
      "text/plain": [
       "False"
      ]
     },
     "execution_count": 17,
     "metadata": {},
     "output_type": "execute_result"
    }
   ],
   "source": [
    "a < b"
   ]
  },
  {
   "cell_type": "code",
   "execution_count": 19,
   "id": "778e8178-d2bf-4254-9639-07bafe5613d6",
   "metadata": {},
   "outputs": [
    {
     "data": {
      "text/plain": [
       "True"
      ]
     },
     "execution_count": 19,
     "metadata": {},
     "output_type": "execute_result"
    }
   ],
   "source": [
    "a > b"
   ]
  },
  {
   "cell_type": "code",
   "execution_count": 21,
   "id": "202881de-6960-433b-9529-5ae348759481",
   "metadata": {},
   "outputs": [
    {
     "data": {
      "text/plain": [
       "True"
      ]
     },
     "execution_count": 21,
     "metadata": {},
     "output_type": "execute_result"
    }
   ],
   "source": [
    "a>=b"
   ]
  },
  {
   "cell_type": "code",
   "execution_count": 23,
   "id": "1dfb3109-978b-436c-88d3-c4a707498972",
   "metadata": {},
   "outputs": [
    {
     "data": {
      "text/plain": [
       "False"
      ]
     },
     "execution_count": 23,
     "metadata": {},
     "output_type": "execute_result"
    }
   ],
   "source": [
    "a<=b"
   ]
  },
  {
   "cell_type": "code",
   "execution_count": 26,
   "id": "1de814a5-4d0f-4f31-b5b3-e3426dc80068",
   "metadata": {},
   "outputs": [
    {
     "data": {
      "text/plain": [
       "False"
      ]
     },
     "execution_count": 26,
     "metadata": {},
     "output_type": "execute_result"
    }
   ],
   "source": [
    "a == b"
   ]
  },
  {
   "cell_type": "code",
   "execution_count": 28,
   "id": "4c9fcf7b-00dd-4e74-9714-66bef87d87b7",
   "metadata": {},
   "outputs": [
    {
     "data": {
      "text/plain": [
       "True"
      ]
     },
     "execution_count": 28,
     "metadata": {},
     "output_type": "execute_result"
    }
   ],
   "source": [
    "a !=b"
   ]
  },
  {
   "cell_type": "code",
   "execution_count": 34,
   "id": "9e3bfd7c-270f-4b78-a1bd-b25f3106db51",
   "metadata": {},
   "outputs": [
    {
     "data": {
      "text/plain": [
       "True"
      ]
     },
     "execution_count": 34,
     "metadata": {},
     "output_type": "execute_result"
    }
   ],
   "source": [
    "a > b"
   ]
  },
  {
   "cell_type": "code",
   "execution_count": 36,
   "id": "71d66a68-9ea0-49fe-b15d-8f744ed8042c",
   "metadata": {},
   "outputs": [
    {
     "data": {
      "text/plain": [
       "False"
      ]
     },
     "execution_count": 36,
     "metadata": {},
     "output_type": "execute_result"
    }
   ],
   "source": [
    "a > 100"
   ]
  },
  {
   "cell_type": "code",
   "execution_count": 38,
   "id": "1dc690e4-51eb-4a4f-973c-05f265cd5dc3",
   "metadata": {},
   "outputs": [
    {
     "data": {
      "text/plain": [
       "False"
      ]
     },
     "execution_count": 38,
     "metadata": {},
     "output_type": "execute_result"
    }
   ],
   "source": [
    "a>b and a>100"
   ]
  },
  {
   "cell_type": "code",
   "execution_count": 40,
   "id": "561fdead-6b36-47df-8d0e-d5a67cfb0af1",
   "metadata": {},
   "outputs": [
    {
     "data": {
      "text/plain": [
       "True"
      ]
     },
     "execution_count": 40,
     "metadata": {},
     "output_type": "execute_result"
    }
   ],
   "source": [
    "a<b or a>b "
   ]
  },
  {
   "cell_type": "code",
   "execution_count": 44,
   "id": "5e62ae55-0643-4a1c-a08f-78cb94fbf11a",
   "metadata": {},
   "outputs": [
    {
     "data": {
      "text/plain": [
       "True"
      ]
     },
     "execution_count": 44,
     "metadata": {},
     "output_type": "execute_result"
    }
   ],
   "source": [
    "not a<b"
   ]
  },
  {
   "cell_type": "code",
   "execution_count": 46,
   "id": "1a70568d-3988-49fe-95eb-a4e30520f843",
   "metadata": {},
   "outputs": [
    {
     "data": {
      "text/plain": [
       "False"
      ]
     },
     "execution_count": 46,
     "metadata": {},
     "output_type": "execute_result"
    }
   ],
   "source": [
    "True and True --- True\n",
    "True and False --- False\n",
    "False and True --- False\n",
    "False and False --- False"
   ]
  },
  {
   "cell_type": "code",
   "execution_count": null,
   "id": "9f574b2f-87db-4427-96d1-6f8987942a57",
   "metadata": {},
   "outputs": [],
   "source": [
    "True or True --- True\n",
    "True or False --- True\n",
    "False or True --- True\n",
    "False or False --- False"
   ]
  }
 ],
 "metadata": {
  "kernelspec": {
   "display_name": "Python [conda env:base] *",
   "language": "python",
   "name": "conda-base-py"
  },
  "language_info": {
   "codemirror_mode": {
    "name": "ipython",
    "version": 3
   },
   "file_extension": ".py",
   "mimetype": "text/x-python",
   "name": "python",
   "nbconvert_exporter": "python",
   "pygments_lexer": "ipython3",
   "version": "3.12.7"
  }
 },
 "nbformat": 4,
 "nbformat_minor": 5
}
